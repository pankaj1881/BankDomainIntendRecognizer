{
 "cells": [
  {
   "cell_type": "markdown",
   "metadata": {},
   "source": [
    "### Finetuning on custom Data\n",
    "\n",
    "\n"
   ]
  },
  {
   "cell_type": "code",
   "execution_count": 15,
   "metadata": {},
   "outputs": [
    {
     "name": "stderr",
     "output_type": "stream",
     "text": [
      "Generating train split: 140 examples [00:00, 456.63 examples/s]\n",
      "e:\\ps_project_task\\research\\.venv\\lib\\site-packages\\huggingface_hub\\file_download.py:1142: FutureWarning: `resume_download` is deprecated and will be removed in version 1.0.0. Downloads always resume when possible. If you want to force a new download, use `force_download=True`.\n",
      "  warnings.warn(\n",
      "Map: 100%|██████████| 140/140 [00:00<00:00, 1046.02 examples/s]\n"
     ]
    }
   ],
   "source": [
    "from datasets import load_dataset\n",
    "import pandas as pd\n",
    "from transformers import BertTokenizer, BertForSequenceClassification, Trainer, TrainingArguments\n",
    "\n",
    "# Load dataset \n",
    "data = pd.read_csv(\"intent_data.csv\")\n",
    "\n",
    "# Convert labels to numeric: 'informative' -> 0, 'transactional' -> 1\n",
    "data['label'] = data['label'].map({'informative': 0, 'transactional': 1})\n",
    "\n",
    "data.to_csv(\"encoded_intent_data.csv\", index=False)\n",
    "\n",
    "dataset = load_dataset('csv', data_files=\"encoded_intent_data.csv\", split='train')\n",
    "\n",
    "tokenizer = BertTokenizer.from_pretrained('bert-base-uncased')\n",
    "\n",
    "\n",
    "def tokenize_function(examples):\n",
    "    return tokenizer(examples['query'], padding='max_length', truncation=True, max_length=128)\n",
    "\n",
    "dataset = dataset.map(tokenize_function, batched=True)\n",
    "\n",
    "# dataset\n"
   ]
  },
  {
   "cell_type": "code",
   "execution_count": 8,
   "metadata": {},
   "outputs": [],
   "source": [
    "# Split the dataset into train and test (80% training, 20% testing)\n",
    "train_dataset, test_dataset = dataset.train_test_split(test_size=0.2, seed=42).values()\n",
    "\n",
    "# Set dataset format for PyTorch (input_ids, attention_mask, and labels)\n",
    "train_dataset.set_format(type='torch', columns=['input_ids', 'attention_mask', 'label'])\n",
    "test_dataset.set_format(type='torch', columns=['input_ids', 'attention_mask', 'label'])\n"
   ]
  },
  {
   "cell_type": "code",
   "execution_count": 9,
   "metadata": {},
   "outputs": [
    {
     "name": "stderr",
     "output_type": "stream",
     "text": [
      "Some weights of BertForSequenceClassification were not initialized from the model checkpoint at bert-base-uncased and are newly initialized: ['classifier.bias', 'classifier.weight']\n",
      "You should probably TRAIN this model on a down-stream task to be able to use it for predictions and inference.\n",
      " 33%|███▎      | 7/21 [06:32<13:04, 56.02s/it]\n",
      "\n",
      "\u001b[A\n",
      "\n",
      "\u001b[A\u001b[A                               \n",
      "                                              \n",
      " 33%|███▎      | 7/21 [06:00<00:53,  3.83s/it]\n",
      "\u001b[ACheckpoint destination directory ./results\\checkpoint-7 already exists and is non-empty.Saving will proceed but saved results may be invalid.\n"
     ]
    },
    {
     "name": "stdout",
     "output_type": "stream",
     "text": [
      "{'eval_loss': 0.6006103754043579, 'eval_runtime': 2.1956, 'eval_samples_per_second': 12.298, 'eval_steps_per_second': 0.455, 'epoch': 1.0}\n"
     ]
    },
    {
     "name": "stderr",
     "output_type": "stream",
     "text": [
      "\n",
      " 33%|███▎      | 7/21 [06:18<00:53,  3.83s/it] "
     ]
    },
    {
     "name": "stdout",
     "output_type": "stream",
     "text": [
      "{'loss': 0.632, 'learning_rate': 1.0476190476190477e-05, 'epoch': 1.43}\n"
     ]
    },
    {
     "name": "stderr",
     "output_type": "stream",
     "text": [
      "\n",
      "\u001b[A\n",
      "\n",
      "\u001b[A\u001b[A                               \n",
      "                                               \n",
      " 33%|███▎      | 7/21 [06:36<00:53,  3.83s/it]\n",
      "\u001b[ACheckpoint destination directory ./results\\checkpoint-14 already exists and is non-empty.Saving will proceed but saved results may be invalid.\n"
     ]
    },
    {
     "name": "stdout",
     "output_type": "stream",
     "text": [
      "{'eval_loss': 0.5553529262542725, 'eval_runtime': 2.1013, 'eval_samples_per_second': 12.849, 'eval_steps_per_second': 0.476, 'epoch': 2.0}\n"
     ]
    },
    {
     "name": "stderr",
     "output_type": "stream",
     "text": [
      "\n",
      " 33%|███▎      | 7/21 [07:06<00:53,  3.83s/it] "
     ]
    },
    {
     "name": "stdout",
     "output_type": "stream",
     "text": [
      "{'loss': 0.5605, 'learning_rate': 9.523809523809525e-07, 'epoch': 2.86}\n"
     ]
    },
    {
     "name": "stderr",
     "output_type": "stream",
     "text": [
      "\n",
      "\u001b[A\n",
      "\n",
      "\u001b[A\u001b[A                               \n",
      "                                               \n",
      " 33%|███▎      | 7/21 [07:11<00:53,  3.83s/it]\n",
      "\u001b[ACheckpoint destination directory ./results\\checkpoint-21 already exists and is non-empty.Saving will proceed but saved results may be invalid.\n"
     ]
    },
    {
     "name": "stdout",
     "output_type": "stream",
     "text": [
      "{'eval_loss': 0.5232444405555725, 'eval_runtime': 2.051, 'eval_samples_per_second': 13.165, 'eval_steps_per_second': 0.488, 'epoch': 3.0}\n"
     ]
    },
    {
     "name": "stderr",
     "output_type": "stream",
     "text": [
      "\n",
      "100%|██████████| 21/21 [01:45<00:00,  5.04s/it]\n"
     ]
    },
    {
     "name": "stdout",
     "output_type": "stream",
     "text": [
      "{'train_runtime': 105.9181, 'train_samples_per_second': 3.031, 'train_steps_per_second': 0.198, 'train_loss': 0.595306260245187, 'epoch': 3.0}\n"
     ]
    },
    {
     "name": "stderr",
     "output_type": "stream",
     "text": [
      "100%|██████████| 1/1 [00:00<00:00, 334.15it/s]"
     ]
    },
    {
     "name": "stdout",
     "output_type": "stream",
     "text": [
      "{'eval_loss': 0.5232444405555725, 'eval_runtime': 2.066, 'eval_samples_per_second': 13.069, 'eval_steps_per_second': 0.484, 'epoch': 3.0}\n"
     ]
    },
    {
     "name": "stderr",
     "output_type": "stream",
     "text": [
      "\n"
     ]
    }
   ],
   "source": [
    "# Load pre-trained BERT model for sequence classification (2 labels)\n",
    "model = BertForSequenceClassification.from_pretrained('bert-base-uncased', num_labels=2)\n",
    "\n",
    "# Set training arguments\n",
    "training_args = TrainingArguments(\n",
    "    output_dir='./results',                \n",
    "    evaluation_strategy=\"epoch\",          \n",
    "    save_strategy=\"epoch\",                \n",
    "    learning_rate=2e-5,                    \n",
    "    per_device_train_batch_size=16,        \n",
    "    per_device_eval_batch_size=32,         \n",
    "    num_train_epochs=3,                    \n",
    "    weight_decay=0.01,                    \n",
    "    logging_dir='./logs',                  \n",
    "    logging_steps=10,\n",
    "    load_best_model_at_end=True,           \n",
    ")\n",
    "\n",
    "# Initialize Trainer\n",
    "trainer = Trainer(\n",
    "    model=model,                         \n",
    "    args=training_args,                  \n",
    "    train_dataset=train_dataset,         \n",
    "    eval_dataset=test_dataset,           \n",
    ")\n",
    "\n",
    "# Train the model\n",
    "trainer.train()\n",
    "\n",
    "\n",
    "trainer.save_model(\"fine_tuned_bert_model\")\n",
    "\n",
    "# Evaluate \n",
    "results = trainer.evaluate()\n",
    "\n",
    "# print(results)\n"
   ]
  },
  {
   "cell_type": "code",
   "execution_count": null,
   "metadata": {},
   "outputs": [],
   "source": []
  },
  {
   "cell_type": "markdown",
   "metadata": {},
   "source": [
    "### Prediction"
   ]
  },
  {
   "cell_type": "code",
   "execution_count": 1,
   "metadata": {},
   "outputs": [
    {
     "name": "stderr",
     "output_type": "stream",
     "text": [
      "e:\\ps_project_task\\research\\.venv\\lib\\site-packages\\tqdm\\auto.py:21: TqdmWarning: IProgress not found. Please update jupyter and ipywidgets. See https://ipywidgets.readthedocs.io/en/stable/user_install.html\n",
      "  from .autonotebook import tqdm as notebook_tqdm\n",
      "e:\\ps_project_task\\research\\.venv\\lib\\site-packages\\transformers\\utils\\generic.py:441: FutureWarning: `torch.utils._pytree._register_pytree_node` is deprecated. Please use `torch.utils._pytree.register_pytree_node` instead.\n",
      "  _torch_pytree._register_pytree_node(\n",
      "e:\\ps_project_task\\research\\.venv\\lib\\site-packages\\transformers\\utils\\generic.py:309: FutureWarning: `torch.utils._pytree._register_pytree_node` is deprecated. Please use `torch.utils._pytree.register_pytree_node` instead.\n",
      "  _torch_pytree._register_pytree_node(\n",
      "e:\\ps_project_task\\research\\.venv\\lib\\site-packages\\transformers\\utils\\generic.py:309: FutureWarning: `torch.utils._pytree._register_pytree_node` is deprecated. Please use `torch.utils._pytree.register_pytree_node` instead.\n",
      "  _torch_pytree._register_pytree_node(\n",
      "e:\\ps_project_task\\research\\.venv\\lib\\site-packages\\huggingface_hub\\file_download.py:1142: FutureWarning: `resume_download` is deprecated and will be removed in version 1.0.0. Downloads always resume when possible. If you want to force a new download, use `force_download=True`.\n",
      "  warnings.warn(\n"
     ]
    }
   ],
   "source": [
    "from transformers import BertTokenizer, BertForSequenceClassification\n",
    "import torch\n",
    "\n",
    "# Load the fine-tuned model and tokenizer\n",
    "model = BertForSequenceClassification.from_pretrained(\"fine_tuned_bert_model\")  #aved model\n",
    "tokenizer = BertTokenizer.from_pretrained('bert-base-uncased')  # Use the same tokenizer you used for training\n",
    "\n",
    "def predict_intent(input_text):\n",
    "    # Tokenize the input\n",
    "    inputs = tokenizer(input_text, padding=True, truncation=True, max_length=128, return_tensors=\"pt\")\n",
    "    \n",
    "    # Set the model to evaluation mode (important for dropout layers during inference)\n",
    "    model.eval()\n",
    "\n",
    "    # Make prediction\n",
    "    with torch.no_grad():\n",
    "        outputs = model(**inputs)\n",
    "        logits = outputs.logits  \n",
    "\n",
    "    # Get the predicted class (highest logit value)\n",
    "    predicted_class = torch.argmax(logits, dim=-1)\n",
    "\n",
    "    # Print the prediction\n",
    "    if predicted_class == 0:\n",
    "        print(f\"Query: '{input_text}' is classified as 'informative'.\")\n",
    "    else:\n",
    "        print(f\"Query: '{input_text}' is classified as 'transactional'.\")\n",
    "\n",
    "\n"
   ]
  },
  {
   "cell_type": "code",
   "execution_count": 9,
   "metadata": {},
   "outputs": [
    {
     "name": "stdout",
     "output_type": "stream",
     "text": [
      "Query: 'I want to add benificiary' is classified as 'informative'.\n"
     ]
    }
   ],
   "source": [
    "\n",
    "predict_intent(\"I want to add benificiary\")"
   ]
  },
  {
   "cell_type": "code",
   "execution_count": null,
   "metadata": {},
   "outputs": [],
   "source": []
  },
  {
   "cell_type": "code",
   "execution_count": 89,
   "metadata": {},
   "outputs": [],
   "source": [
    "# import torch\n",
    "# import torch.nn.functional as F\n",
    "\n",
    "# def get_feedback(query, model, tokenizer):\n",
    "#     # Preprocess the query and get model prediction\n",
    "#     inputs = tokenizer(query, padding=True, truncation=True, max_length=128, return_tensors=\"pt\")\n",
    "#     model.eval()\n",
    "    \n",
    "#     with torch.no_grad():\n",
    "#         outputs = model(**inputs)\n",
    "#         logits = outputs.logits\n",
    "    \n",
    "#     # Apply softmax to get probabilities\n",
    "#     probs = F.softmax(logits, dim=-1)\n",
    "#     predicted_class = torch.argmax(logits, dim=-1)\n",
    "    \n",
    "#     print(f\"Model Prediction: {'informative' if predicted_class == 0 else 'transactional'} (Confidence: {probs[0][predicted_class].item():.4f})\")\n",
    "    \n",
    "#     # If confidence is below a threshold, ask for user feedback\n",
    "#     if probs[0][predicted_class].item() < 0.7:  # Example threshold for low confidence\n",
    "#         user_feedback = input(\"Is this correct? (yes/no): \")\n",
    "#         if user_feedback.lower() != 'yes':\n",
    "#             correct_label = input(\"Please enter the correct label (informative / transactional): \")\n",
    "#             return query, correct_label  # Store this for retraining\n",
    "#     return None\n"
   ]
  },
  {
   "cell_type": "code",
   "execution_count": 90,
   "metadata": {},
   "outputs": [],
   "source": [
    "# import pandas as pd\n",
    "\n",
    "\n",
    "# def save_feedback_to_csv(query, correct_label, feedback_file=\"intent_data.csv\"):\n",
    " \n",
    "#     try:\n",
    "#         feedback_data = pd.read_csv(feedback_file)\n",
    "#     except FileNotFoundError:\n",
    "#         feedback_data = pd.DataFrame(columns=[\"query\", \"label\"])\n",
    "    \n",
    "#     # Add new feedback to the dataset\n",
    "#     new_feedback = pd.DataFrame({\"query\": [query], \"label\": [correct_label]})\n",
    "#     feedback_data = pd.concat([feedback_data, new_feedback], ignore_index=True)\n",
    "    \n",
    "#     # Save the updated feedback data back to CSV\n",
    "#     feedback_data.to_csv(feedback_file, index=False)\n"
   ]
  },
  {
   "cell_type": "markdown",
   "metadata": {},
   "source": [
    "### Testing"
   ]
  },
  {
   "cell_type": "code",
   "execution_count": 3,
   "metadata": {},
   "outputs": [
    {
     "name": "stderr",
     "output_type": "stream",
     "text": [
      "e:\\ps_project_task\\research\\.venv\\lib\\site-packages\\huggingface_hub\\file_download.py:1142: FutureWarning: `resume_download` is deprecated and will be removed in version 1.0.0. Downloads always resume when possible. If you want to force a new download, use `force_download=True`.\n",
      "  warnings.warn(\n"
     ]
    }
   ],
   "source": [
    "import torch\n",
    "import pandas as pd\n",
    "from transformers import BertTokenizer, BertForSequenceClassification\n",
    "import torch.nn.functional as F\n",
    "\n",
    "\n",
    "model = BertForSequenceClassification.from_pretrained(\"fine_tuned_bert_model\")  \n",
    "tokenizer = BertTokenizer.from_pretrained('bert-base-uncased')  \n",
    "\n",
    "def preprocess_input(input_text,tokenizer):\n",
    "    # Tokenize the input\n",
    "    inputs = tokenizer(input_text, padding=True, truncation=True, max_length=128, return_tensors=\"pt\")\n",
    "    return inputs\n",
    "\n",
    "\n",
    "def save_feedback_to_csv(query, correct_label, feedback_file):\n",
    " \n",
    "    try:\n",
    "        feedback_data = pd.read_csv(feedback_file)\n",
    "    except FileNotFoundError:\n",
    "        feedback_data = pd.DataFrame(columns=[\"query\", \"label\"])\n",
    "    \n",
    "    \n",
    "    new_feedback = pd.DataFrame({\"query\": [query], \"label\": [correct_label]})\n",
    "    feedback_data = pd.concat([feedback_data, new_feedback], ignore_index=True)\n",
    "    \n",
    "    feedback_data.to_csv(feedback_file, index=False)\n",
    "\n",
    "def get_feedback(query, model , tokenizer, feedback_file, confidence_threshold=0.8): # feedback_file=\"intent_data.csv\"\n",
    "    # Preprocess the query and get model prediction\n",
    "    inputs = preprocess_input(query,tokenizer=tokenizer)\n",
    "    model.eval()\n",
    "    \n",
    "    with torch.no_grad():\n",
    "        outputs = model(**inputs)\n",
    "        logits = outputs.logits\n",
    "    \n",
    "    # Apply softmax to get probabilities\n",
    "    probs = F.softmax(logits, dim=-1)\n",
    "    predicted_class = torch.argmax(logits, dim=-1)\n",
    "    \n",
    "    print(f\"Model Prediction: {'informative' if predicted_class == 0 else 'transactional'} (Confidence: {probs[0][predicted_class].item():.4f})\")\n",
    "    \n",
    "    prediction_list = []\n",
    "        # prediction\n",
    "    if predicted_class == 0:\n",
    "        prediction_list.append('informative')\n",
    "        prediction_list.append('transactional')\n",
    "    else:\n",
    "        prediction_list.append('transactional')\n",
    "        prediction_list.append('informative')\n",
    "  \n",
    "    if probs[0][predicted_class].item() < confidence_threshold: \n",
    "        user_feedback = input(\"Is this prediction correct? ( Y/N ): \")\n",
    "        if user_feedback.lower() == 'y':\n",
    "            save_feedback_to_csv(query=query, correct_label= prediction_list[0] , feedback_file= feedback_file)\n",
    "            print(f\"Thank you for the feedback! As per feedback {prediction_list[0].upper()} intent has been saved.\")\n",
    "        \n",
    "        elif user_feedback.lower() == 'n':\n",
    "            save_feedback_to_csv(query, prediction_list[1] , feedback_file)\n",
    "            print(f\"Thank you for the feedback! As per feedback {prediction_list[1].upper()} intent has been saved.\")\n",
    "\n",
    "        else:\n",
    "            print(\"Not valid input.\")\n"
   ]
  },
  {
   "cell_type": "code",
   "execution_count": 5,
   "metadata": {},
   "outputs": [
    {
     "name": "stdout",
     "output_type": "stream",
     "text": [
      "Model Prediction: transactional (Confidence: 0.5062)\n",
      "Thank you for the feedback! TRANSACTIONAL Intent has been saved.\n"
     ]
    }
   ],
   "source": [
    "## TESTING\n",
    "get_feedback(query = input(\"Enter Query : \"), \n",
    "             model=model, tokenizer=tokenizer, \n",
    "             feedback_file=\"intent_data.csv\", \n",
    "             confidence_threshold=0.8)"
   ]
  },
  {
   "cell_type": "code",
   "execution_count": null,
   "metadata": {},
   "outputs": [],
   "source": []
  },
  {
   "cell_type": "markdown",
   "metadata": {},
   "source": [
    "###  Finetuining on feedback data "
   ]
  },
  {
   "cell_type": "code",
   "execution_count": null,
   "metadata": {},
   "outputs": [],
   "source": [
    "from datasets import Dataset\n",
    "from transformers import Trainer, TrainingArguments, BertForSequenceClassification, BertTokenizer\n",
    "\n",
    "def retrain_model_with_feedback(feedback_file=\"feedback_data.csv\"):\n",
    "    # Load feedback data\n",
    "    feedback_data = pd.read_csv(feedback_file)\n",
    "    \n",
    "    # Tokenize the new feedback data\n",
    "    tokenizer = BertTokenizer.from_pretrained('bert-base-uncased')\n",
    "    \n",
    "    def tokenize_function(examples):\n",
    "        return tokenizer(examples['query'], padding=True, truncation=True, max_length=128)\n",
    "    \n",
    "    feedback_dataset = Dataset.from_pandas(feedback_data)\n",
    "    feedback_dataset = feedback_dataset.map(tokenize_function, batched=True)\n",
    "    \n",
    "    # Load your pre-trained model\n",
    "    model = BertForSequenceClassification.from_pretrained(\"fine_tuned_bert_model\", num_labels=2)\n",
    "    \n",
    "    # Define training arguments\n",
    "    training_args = TrainingArguments(\n",
    "        output_dir='./results',\n",
    "        evaluation_strategy=\"epoch\",\n",
    "        save_strategy=\"epoch\",\n",
    "        learning_rate=2e-5,\n",
    "        per_device_train_batch_size=16,\n",
    "        per_device_eval_batch_size=32,\n",
    "        num_train_epochs=3,\n",
    "        weight_decay=0.01,\n",
    "        logging_dir='./logs',\n",
    "        logging_steps=10,\n",
    "        load_best_model_at_end=True,\n",
    "    )\n",
    "    \n",
    "    # Initialize the Trainer\n",
    "    trainer = Trainer(\n",
    "        model=model,\n",
    "        args=training_args,\n",
    "        train_dataset=feedback_dataset,  # Use feedback data for training\n",
    "    )\n",
    "    \n",
    "    # Retrain the model with the new data\n",
    "    trainer.train()\n",
    "\n",
    "    # Save the updated model\n",
    "    trainer.save_model(\"fine_tuned_bert_model\")\n"
   ]
  },
  {
   "cell_type": "code",
   "execution_count": null,
   "metadata": {},
   "outputs": [],
   "source": []
  },
  {
   "cell_type": "code",
   "execution_count": null,
   "metadata": {},
   "outputs": [],
   "source": []
  },
  {
   "cell_type": "code",
   "execution_count": null,
   "metadata": {},
   "outputs": [],
   "source": []
  },
  {
   "cell_type": "code",
   "execution_count": null,
   "metadata": {},
   "outputs": [],
   "source": []
  },
  {
   "cell_type": "code",
   "execution_count": null,
   "metadata": {},
   "outputs": [],
   "source": []
  },
  {
   "cell_type": "code",
   "execution_count": null,
   "metadata": {},
   "outputs": [],
   "source": []
  }
 ],
 "metadata": {
  "kernelspec": {
   "display_name": ".venv",
   "language": "python",
   "name": "python3"
  },
  "language_info": {
   "codemirror_mode": {
    "name": "ipython",
    "version": 3
   },
   "file_extension": ".py",
   "mimetype": "text/x-python",
   "name": "python",
   "nbconvert_exporter": "python",
   "pygments_lexer": "ipython3",
   "version": "3.10.11"
  }
 },
 "nbformat": 4,
 "nbformat_minor": 2
}
