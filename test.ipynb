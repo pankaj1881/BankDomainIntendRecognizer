{
 "cells": [
  {
   "cell_type": "markdown",
   "metadata": {},
   "source": [
    "### Finetuning on custom Data\n",
    "\n",
    "\n"
   ]
  },
  {
   "cell_type": "code",
   "execution_count": 3,
   "metadata": {},
   "outputs": [
    {
     "name": "stderr",
     "output_type": "stream",
     "text": [
      "Generating train split: 147 examples [00:00, 3317.31 examples/s]\n",
      "e:\\ps_project_task\\research\\.venv\\lib\\site-packages\\huggingface_hub\\file_download.py:1142: FutureWarning: `resume_download` is deprecated and will be removed in version 1.0.0. Downloads always resume when possible. If you want to force a new download, use `force_download=True`.\n",
      "  warnings.warn(\n",
      "Map: 100%|██████████| 147/147 [00:00<00:00, 1748.14 examples/s]\n"
     ]
    }
   ],
   "source": [
    "from datasets import load_dataset\n",
    "import pandas as pd\n",
    "from transformers import BertTokenizer, BertForSequenceClassification, Trainer, TrainingArguments\n",
    "\n",
    "model_path = \"fine_tuned_bert_model\"\n",
    "# Load dataset \n",
    "data = pd.read_csv(\"intent_data.csv\")\n",
    "\n",
    "# Convert labels to numeric: 'informative' -> 0, 'transactional' -> 1\n",
    "data['label'] = data['label'].map({'informative': 0, 'transactional': 1})\n",
    "\n",
    "data.to_csv(\"encoded_intent_data.csv\", index=False)\n",
    "\n",
    "dataset = load_dataset('csv', data_files=\"encoded_intent_data.csv\", split='train')\n",
    "\n",
    "tokenizer = BertTokenizer.from_pretrained('bert-base-uncased')\n",
    "# Save the tokenizer along with the model\n",
    "tokenizer.save_pretrained(model_path)\n",
    "\n",
    "def tokenize_function(examples):\n",
    "    return tokenizer(examples['query'], padding='max_length', truncation=True, max_length=128)\n",
    "\n",
    "dataset = dataset.map(tokenize_function, batched=True)\n",
    "\n",
    "# dataset\n"
   ]
  },
  {
   "cell_type": "code",
   "execution_count": 4,
   "metadata": {},
   "outputs": [],
   "source": [
    "# Split the dataset into train and test (80% training, 20% testing)\n",
    "train_dataset, test_dataset = dataset.train_test_split(test_size=0.2, seed=42).values()\n",
    "\n",
    "# Set dataset format for PyTorch (input_ids, attention_mask, and labels)\n",
    "train_dataset.set_format(type='torch', columns=['input_ids', 'attention_mask', 'label'])\n",
    "test_dataset.set_format(type='torch', columns=['input_ids', 'attention_mask', 'label'])\n"
   ]
  },
  {
   "cell_type": "code",
   "execution_count": 5,
   "metadata": {},
   "outputs": [
    {
     "name": "stderr",
     "output_type": "stream",
     "text": [
      "Some weights of BertForSequenceClassification were not initialized from the model checkpoint at bert-base-uncased and are newly initialized: ['classifier.bias', 'classifier.weight']\n",
      "You should probably TRAIN this model on a down-stream task to be able to use it for predictions and inference.\n",
      "                                              \n",
      " 33%|███▎      | 8/24 [00:34<00:55,  3.47s/it]"
     ]
    },
    {
     "name": "stdout",
     "output_type": "stream",
     "text": [
      "{'eval_loss': 0.5125638246536255, 'eval_runtime': 2.3045, 'eval_samples_per_second': 13.018, 'eval_steps_per_second': 0.434, 'epoch': 1.0}\n"
     ]
    },
    {
     "name": "stderr",
     "output_type": "stream",
     "text": [
      " 42%|████▏     | 10/24 [00:45<01:10,  5.03s/it]"
     ]
    },
    {
     "name": "stdout",
     "output_type": "stream",
     "text": [
      "{'loss': 0.6132, 'learning_rate': 1.1666666666666668e-05, 'epoch': 1.25}\n"
     ]
    },
    {
     "name": "stderr",
     "output_type": "stream",
     "text": [
      "                                               \n",
      " 67%|██████▋   | 16/24 [01:11<00:28,  3.60s/it]"
     ]
    },
    {
     "name": "stdout",
     "output_type": "stream",
     "text": [
      "{'eval_loss': 0.4886522591114044, 'eval_runtime': 2.2312, 'eval_samples_per_second': 13.446, 'eval_steps_per_second': 0.448, 'epoch': 2.0}\n"
     ]
    },
    {
     "name": "stderr",
     "output_type": "stream",
     "text": [
      " 83%|████████▎ | 20/24 [01:31<00:18,  4.68s/it]"
     ]
    },
    {
     "name": "stdout",
     "output_type": "stream",
     "text": [
      "{'loss': 0.5178, 'learning_rate': 3.3333333333333333e-06, 'epoch': 2.5}\n"
     ]
    },
    {
     "name": "stderr",
     "output_type": "stream",
     "text": [
      "                                               \n",
      "100%|██████████| 24/24 [01:48<00:00,  3.59s/it]"
     ]
    },
    {
     "name": "stdout",
     "output_type": "stream",
     "text": [
      "{'eval_loss': 0.4822712242603302, 'eval_runtime': 2.2392, 'eval_samples_per_second': 13.398, 'eval_steps_per_second': 0.447, 'epoch': 3.0}\n"
     ]
    },
    {
     "name": "stderr",
     "output_type": "stream",
     "text": [
      "100%|██████████| 24/24 [01:52<00:00,  4.69s/it]\n"
     ]
    },
    {
     "name": "stdout",
     "output_type": "stream",
     "text": [
      "{'train_runtime': 112.5599, 'train_samples_per_second': 3.118, 'train_steps_per_second': 0.213, 'train_loss': 0.5516497393449148, 'epoch': 3.0}\n"
     ]
    },
    {
     "name": "stderr",
     "output_type": "stream",
     "text": [
      "100%|██████████| 1/1 [00:00<00:00, 334.26it/s]\n"
     ]
    }
   ],
   "source": [
    "# Load pre-trained BERT model for sequence classification (2 labels)\n",
    "model = BertForSequenceClassification.from_pretrained('bert-base-uncased', num_labels=2)\n",
    "\n",
    "# Set training arguments\n",
    "training_args = TrainingArguments(\n",
    "    output_dir='./results',                \n",
    "    evaluation_strategy=\"epoch\",          \n",
    "    save_strategy=\"epoch\",                \n",
    "    learning_rate=2e-5,                    \n",
    "    per_device_train_batch_size=16,        \n",
    "    per_device_eval_batch_size=32,         \n",
    "    num_train_epochs=3,                    \n",
    "    weight_decay=0.01,                    \n",
    "    logging_dir='./logs',                  \n",
    "    logging_steps=10,\n",
    "    load_best_model_at_end=True,           \n",
    ")\n",
    "\n",
    "# Initialize Trainer\n",
    "trainer = Trainer(\n",
    "    model=model,                         \n",
    "    args=training_args,                  \n",
    "    train_dataset=train_dataset,         \n",
    "    eval_dataset=test_dataset,           \n",
    ")\n",
    "\n",
    "# Train the model\n",
    "trainer.train()\n",
    "\n",
    "\n",
    "trainer.save_model(model_path)\n",
    "\n",
    "# Evaluate \n",
    "results = trainer.evaluate()\n",
    "\n",
    "# print(results)\n"
   ]
  },
  {
   "cell_type": "code",
   "execution_count": null,
   "metadata": {},
   "outputs": [],
   "source": []
  },
  {
   "cell_type": "markdown",
   "metadata": {},
   "source": [
    "### Prediction"
   ]
  },
  {
   "cell_type": "code",
   "execution_count": 15,
   "metadata": {},
   "outputs": [],
   "source": [
    "from transformers import BertTokenizer, BertForSequenceClassification\n",
    "import torch\n",
    "\n",
    "# Load the fine-tuned model and tokenizer\n",
    "model = BertForSequenceClassification.from_pretrained(\"fine_tuned_bert_model\")  #aved model\n",
    "tokenizer = BertTokenizer.from_pretrained(\"fine_tuned_bert_model\")  # Use the same tokenizer you used for training\n",
    "\n",
    "def predict_intent(input_text):\n",
    "    # Tokenize the input\n",
    "    inputs = tokenizer(input_text, padding=True, truncation=True, max_length=128, return_tensors=\"pt\")\n",
    "    \n",
    "    # Set the model to evaluation mode (important for dropout layers during inference)\n",
    "    model.eval()\n",
    "\n",
    "    # Make prediction\n",
    "    with torch.no_grad():\n",
    "        outputs = model(**inputs)\n",
    "        logits = outputs.logits  \n",
    "\n",
    "    # Get the predicted class (highest logit value)\n",
    "    predicted_class = torch.argmax(logits, dim=-1)\n",
    "\n",
    "    # Print the prediction\n",
    "    if predicted_class == 0:\n",
    "        print(f\"Query: '{input_text}' is classified as 'informative'.\")\n",
    "    else:\n",
    "        print(f\"Query: '{input_text}' is classified as 'transactional'.\")\n",
    "\n",
    "\n"
   ]
  },
  {
   "cell_type": "code",
   "execution_count": 21,
   "metadata": {},
   "outputs": [
    {
     "name": "stdout",
     "output_type": "stream",
     "text": [
      "Query: 'I want new credit card' is classified as 'transactional'.\n"
     ]
    }
   ],
   "source": [
    "predict_intent(\"\")"
   ]
  },
  {
   "cell_type": "code",
   "execution_count": 12,
   "metadata": {},
   "outputs": [
    {
     "name": "stdout",
     "output_type": "stream",
     "text": [
      "Query: 'I want to apply for credit card' is classified as 'transactional'.\n"
     ]
    }
   ],
   "source": [
    "query = \"I want to apply for credit card\"\n",
    "predict_intent(query)"
   ]
  },
  {
   "cell_type": "code",
   "execution_count": 89,
   "metadata": {},
   "outputs": [],
   "source": [
    "# import torch\n",
    "# import torch.nn.functional as F\n",
    "\n",
    "# def get_feedback(query, model, tokenizer):\n",
    "#     # Preprocess the query and get model prediction\n",
    "#     inputs = tokenizer(query, padding=True, truncation=True, max_length=128, return_tensors=\"pt\")\n",
    "#     model.eval()\n",
    "    \n",
    "#     with torch.no_grad():\n",
    "#         outputs = model(**inputs)\n",
    "#         logits = outputs.logits\n",
    "    \n",
    "#     # Apply softmax to get probabilities\n",
    "#     probs = F.softmax(logits, dim=-1)\n",
    "#     predicted_class = torch.argmax(logits, dim=-1)\n",
    "    \n",
    "#     print(f\"Model Prediction: {'informative' if predicted_class == 0 else 'transactional'} (Confidence: {probs[0][predicted_class].item():.4f})\")\n",
    "    \n",
    "#     # If confidence is below a threshold, ask for user feedback\n",
    "#     if probs[0][predicted_class].item() < 0.7:  # Example threshold for low confidence\n",
    "#         user_feedback = input(\"Is this correct? (yes/no): \")\n",
    "#         if user_feedback.lower() != 'yes':\n",
    "#             correct_label = input(\"Please enter the correct label (informative / transactional): \")\n",
    "#             return query, correct_label  # Store this for retraining\n",
    "#     return None\n"
   ]
  },
  {
   "cell_type": "code",
   "execution_count": 90,
   "metadata": {},
   "outputs": [],
   "source": [
    "# import pandas as pd\n",
    "\n",
    "\n",
    "# def save_feedback_to_csv(query, correct_label, feedback_file=\"intent_data.csv\"):\n",
    " \n",
    "#     try:\n",
    "#         feedback_data = pd.read_csv(feedback_file)\n",
    "#     except FileNotFoundError:\n",
    "#         feedback_data = pd.DataFrame(columns=[\"query\", \"label\"])\n",
    "    \n",
    "#     # Add new feedback to the dataset\n",
    "#     new_feedback = pd.DataFrame({\"query\": [query], \"label\": [correct_label]})\n",
    "#     feedback_data = pd.concat([feedback_data, new_feedback], ignore_index=True)\n",
    "    \n",
    "#     # Save the updated feedback data back to CSV\n",
    "#     feedback_data.to_csv(feedback_file, index=False)\n"
   ]
  },
  {
   "cell_type": "markdown",
   "metadata": {},
   "source": [
    "### Testing"
   ]
  },
  {
   "cell_type": "code",
   "execution_count": 17,
   "metadata": {},
   "outputs": [],
   "source": [
    "import torch\n",
    "import pandas as pd\n",
    "from transformers import BertTokenizer, BertForSequenceClassification\n",
    "import torch.nn.functional as F\n",
    "\n",
    "model_path = \"fine_tuned_bert_model\"\n",
    "model = BertForSequenceClassification.from_pretrained(model_path)  \n",
    "tokenizer = BertTokenizer.from_pretrained(model_path)  \n",
    "\n",
    "def preprocess_input(input_text,tokenizer):\n",
    "    # Tokenize the input\n",
    "    inputs = tokenizer(input_text, padding=True, truncation=True, max_length=128, return_tensors=\"pt\")\n",
    "    return inputs\n",
    "\n",
    "\n",
    "def save_feedback_to_csv(query, correct_label, feedback_file):\n",
    " \n",
    "    try:\n",
    "        feedback_data = pd.read_csv(feedback_file)\n",
    "    except FileNotFoundError:\n",
    "        feedback_data = pd.DataFrame(columns=[\"query\", \"label\"])\n",
    "    \n",
    "    \n",
    "    new_feedback = pd.DataFrame({\"query\": [query], \"label\": [correct_label]})\n",
    "    feedback_data = pd.concat([feedback_data, new_feedback], ignore_index=True)\n",
    "    \n",
    "    feedback_data.to_csv(feedback_file, index=False)\n",
    "\n",
    "def get_feedback(query, model , tokenizer, feedback_file, confidence_threshold=0.8): # feedback_file=\"intent_data.csv\"\n",
    "    # Preprocess the query and get model prediction\n",
    "    inputs = preprocess_input(query,tokenizer=tokenizer)\n",
    "    model.eval()\n",
    "    \n",
    "    with torch.no_grad():\n",
    "        outputs = model(**inputs)\n",
    "        logits = outputs.logits\n",
    "    \n",
    "    # Apply softmax to get probabilities\n",
    "    probs = F.softmax(logits, dim=-1)\n",
    "    predicted_class = torch.argmax(logits, dim=-1)\n",
    "    \n",
    "    print(f\"Model Prediction: {'informative' if predicted_class == 0 else 'transactional'} (Confidence: {probs[0][predicted_class].item():.4f})\")\n",
    "    \n",
    "    prediction_list = []\n",
    "        # prediction\n",
    "    if predicted_class == 0:\n",
    "        prediction_list.append('informative')\n",
    "        prediction_list.append('transactional')\n",
    "    else:\n",
    "        prediction_list.append('transactional')\n",
    "        prediction_list.append('informative')\n",
    "  \n",
    "    if probs[0][predicted_class].item() < confidence_threshold: \n",
    "        user_feedback = input(\"Is this prediction correct? ( Y/N ): \")\n",
    "        if user_feedback.lower() == 'y':\n",
    "            save_feedback_to_csv(query=query, correct_label= prediction_list[0] , feedback_file= feedback_file)\n",
    "            print(f\"Thank you for the feedback! As per feedback {prediction_list[0].upper()} intent has been saved.\")\n",
    "        \n",
    "        elif user_feedback.lower() == 'n':\n",
    "            save_feedback_to_csv(query, prediction_list[1] , feedback_file)\n",
    "            print(f\"Thank you for the feedback! As per feedback {prediction_list[1].upper()} intent has been saved.\")\n",
    "\n",
    "        else:\n",
    "            print(\"Not valid input.\")\n"
   ]
  },
  {
   "cell_type": "code",
   "execution_count": 18,
   "metadata": {},
   "outputs": [
    {
     "name": "stdout",
     "output_type": "stream",
     "text": [
      "Model Prediction: transactional (Confidence: 0.5343)\n",
      "Thank you for the feedback! As per feedback INFORMATIVE intent has been saved.\n"
     ]
    }
   ],
   "source": [
    "## TESTING\n",
    "get_feedback(query = input(\"Enter Query : \"), \n",
    "             model=model, tokenizer=tokenizer, \n",
    "             feedback_file=\"intent_data.csv\", \n",
    "             confidence_threshold=0.8)"
   ]
  },
  {
   "cell_type": "code",
   "execution_count": null,
   "metadata": {},
   "outputs": [],
   "source": []
  },
  {
   "cell_type": "markdown",
   "metadata": {},
   "source": [
    "###  Finetuining on feedback data "
   ]
  },
  {
   "cell_type": "code",
   "execution_count": 28,
   "metadata": {},
   "outputs": [],
   "source": [
    "from datasets import Dataset\n",
    "from transformers import Trainer, TrainingArguments, BertForSequenceClassification, BertTokenizer\n",
    "\n",
    "def retrain_model_with_feedback(feedback_file):\n",
    "\n",
    "    model_path = \"fine_tuned_BERT_model\"\n",
    "\n",
    "    # Load feedback data\n",
    "    feedback_data = pd.read_csv(feedback_file)\n",
    "    \n",
    "    # Tokenize the new feedback data\n",
    "    tokenizer = BertTokenizer.from_pretrained('bert-base-uncased')\n",
    "    trainer.save_model(model_path)\n",
    "\n",
    "    def tokenize_function(examples):\n",
    "        return tokenizer(examples['query'], padding=True, truncation=True, max_length=128)\n",
    "    \n",
    "    feedback_dataset = Dataset.from_pandas(feedback_data)\n",
    "    feedback_dataset = feedback_dataset.map(tokenize_function, batched=True)\n",
    "    \n",
    "    # Load your pre-trained model\n",
    "    model = BertForSequenceClassification.from_pretrained(\"bert-base-uncased\", num_labels=2)\n",
    "    \n",
    "    # Define training arguments\n",
    "    training_args = TrainingArguments(\n",
    "        output_dir='./results',\n",
    "        evaluation_strategy=\"epoch\",\n",
    "        save_strategy=\"epoch\",\n",
    "        learning_rate=2e-5,\n",
    "        per_device_train_batch_size=16,\n",
    "        per_device_eval_batch_size=32,\n",
    "        num_train_epochs=3,\n",
    "        weight_decay=0.01,\n",
    "        logging_dir='./logs',\n",
    "        logging_steps=10,\n",
    "        load_best_model_at_end=True,\n",
    "    )\n",
    "    \n",
    "    # Initialize the Trainer\n",
    "    trainer = Trainer(\n",
    "        model=model,\n",
    "        args=training_args,\n",
    "        train_dataset=feedback_dataset,  # Use feedback data for training\n",
    "    )\n",
    "    \n",
    "    # Retrain the model with the new data\n",
    "    trainer.train()\n",
    "\n",
    "    # Save the updated model\n",
    "    trainer.save_model(model_path)\n"
   ]
  },
  {
   "cell_type": "code",
   "execution_count": null,
   "metadata": {},
   "outputs": [],
   "source": []
  },
  {
   "cell_type": "code",
   "execution_count": null,
   "metadata": {},
   "outputs": [],
   "source": []
  },
  {
   "cell_type": "code",
   "execution_count": null,
   "metadata": {},
   "outputs": [],
   "source": []
  },
  {
   "cell_type": "code",
   "execution_count": null,
   "metadata": {},
   "outputs": [],
   "source": []
  },
  {
   "cell_type": "code",
   "execution_count": null,
   "metadata": {},
   "outputs": [],
   "source": []
  },
  {
   "cell_type": "code",
   "execution_count": null,
   "metadata": {},
   "outputs": [],
   "source": []
  }
 ],
 "metadata": {
  "kernelspec": {
   "display_name": ".venv",
   "language": "python",
   "name": "python3"
  },
  "language_info": {
   "codemirror_mode": {
    "name": "ipython",
    "version": 3
   },
   "file_extension": ".py",
   "mimetype": "text/x-python",
   "name": "python",
   "nbconvert_exporter": "python",
   "pygments_lexer": "ipython3",
   "version": "3.10.11"
  }
 },
 "nbformat": 4,
 "nbformat_minor": 2
}
